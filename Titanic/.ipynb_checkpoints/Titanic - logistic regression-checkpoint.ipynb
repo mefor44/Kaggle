{
 "cells": [
  {
   "cell_type": "markdown",
   "metadata": {},
   "source": [
    "For me, there was a lot of controversy about when to split dataset into train and test sets. On the one hand, if we will split the data at the beggining, we can avoid any information leakage and we can validate our model on data, that our model have never seen before (which i basically the goal of splitting data this way). From the other hand, getting rid of, for example 20% of our data will decrease our overall knowledge about the data. This is important becasue we are using this knowlegde in order to proceede through EDA (exploratory data analysis) with highest possible effiency this is - filling the missing values, doing feature engeeniring all in the best possible way and to do so it's obviously better to have more data. "
   ]
  },
  {
   "cell_type": "markdown",
   "metadata": {},
   "source": [
    "In order to avoid any mistakes I will try to follow rules listed below:\n",
    "1. try not to include any information from train into test set and vice versa \n",
    "2. try to do exploratory analysis before doing splitting\n",
    "3. fill missing values / normalize or scale the data after splitting\n",
    "4. include cross-validation before validating model on test set"
   ]
  },
  {
   "cell_type": "markdown",
   "metadata": {},
   "source": [
    "About the structure: I will try to fit as many transformers to the sklearn's pipeline as i can. This will speed up the whole process of cleaning and working with data. For those purpose I'm going to write my own classes to adress my specific requierments."
   ]
  },
  {
   "cell_type": "markdown",
   "metadata": {},
   "source": [
    "General approach, steps:\n",
    "1. Importing libraries and data\n",
    "2. Data exploration, plotting, correlation\n",
    "3. spliting data into train and test set\n",
    "4. Feature engineering\n",
    "5. Feature selection\n",
    "6. Cross-validation on train set\n",
    "7. Go back to step 4. and proceed, if necessary\n",
    "8. Preprocessing the test set and validating model based on that data\n",
    "\n",
    "steps 3rd and 4th can be mixed togother sometimes. It really depend on situation."
   ]
  },
  {
   "cell_type": "code",
   "execution_count": 1,
   "metadata": {},
   "outputs": [],
   "source": [
    "import numpy as np\n",
    "import pandas as pd\n",
    "import matplotlib.pyplot as plt\n",
    "import seaborn as sns\n",
    "import statsmodels.api as sm\n",
    "from statsmodels.api import OLS\n",
    "from sklearn.base import BaseEstimator, TransformerMixin\n",
    "from sklearn.linear_model import LinearRegression\n"
   ]
  },
  {
   "cell_type": "code",
   "execution_count": 2,
   "metadata": {},
   "outputs": [
    {
     "name": "stdout",
     "output_type": "stream",
     "text": [
      "importing Jupyter notebook from my_own_transformers.ipynb\n"
     ]
    }
   ],
   "source": [
    "import import_ipynb\n",
    "import my_own_transformers"
   ]
  },
  {
   "cell_type": "code",
   "execution_count": null,
   "metadata": {},
   "outputs": [],
   "source": []
  },
  {
   "cell_type": "code",
   "execution_count": 3,
   "metadata": {},
   "outputs": [
    {
     "name": "stdout",
     "output_type": "stream",
     "text": [
      "<class 'pandas.core.frame.DataFrame'>\n",
      "RangeIndex: 891 entries, 0 to 890\n",
      "Data columns (total 12 columns):\n",
      " #   Column       Non-Null Count  Dtype  \n",
      "---  ------       --------------  -----  \n",
      " 0   PassengerId  891 non-null    int64  \n",
      " 1   Survived     891 non-null    int64  \n",
      " 2   Pclass       891 non-null    int64  \n",
      " 3   Name         891 non-null    object \n",
      " 4   Sex          891 non-null    object \n",
      " 5   Age          714 non-null    float64\n",
      " 6   SibSp        891 non-null    int64  \n",
      " 7   Parch        891 non-null    int64  \n",
      " 8   Ticket       891 non-null    object \n",
      " 9   Fare         891 non-null    float64\n",
      " 10  Cabin        204 non-null    object \n",
      " 11  Embarked     889 non-null    object \n",
      "dtypes: float64(2), int64(5), object(5)\n",
      "memory usage: 83.7+ KB\n",
      "None\n",
      "   PassengerId  Survived  Pclass  \\\n",
      "0            1         0       3   \n",
      "1            2         1       1   \n",
      "2            3         1       3   \n",
      "3            4         1       1   \n",
      "4            5         0       3   \n",
      "\n",
      "                                                Name     Sex   Age  SibSp  \\\n",
      "0                            Braund, Mr. Owen Harris    male  22.0      1   \n",
      "1  Cumings, Mrs. John Bradley (Florence Briggs Th...  female  38.0      1   \n",
      "2                             Heikkinen, Miss. Laina  female  26.0      0   \n",
      "3       Futrelle, Mrs. Jacques Heath (Lily May Peel)  female  35.0      1   \n",
      "4                           Allen, Mr. William Henry    male  35.0      0   \n",
      "\n",
      "   Parch            Ticket     Fare Cabin Embarked  \n",
      "0      0         A/5 21171   7.2500   NaN        S  \n",
      "1      0          PC 17599  71.2833   C85        C  \n",
      "2      0  STON/O2. 3101282   7.9250   NaN        S  \n",
      "3      0            113803  53.1000  C123        S  \n",
      "4      0            373450   8.0500   NaN        S  \n",
      "MIssing values:\n",
      " PassengerId      0\n",
      "Survived         0\n",
      "Pclass           0\n",
      "Name             0\n",
      "Sex              0\n",
      "Age            177\n",
      "SibSp            0\n",
      "Parch            0\n",
      "Ticket           0\n",
      "Fare             0\n",
      "Cabin          687\n",
      "Embarked         2\n",
      "dtype: int64\n",
      "MIssing values:\n",
      " PassengerId      0\n",
      "Pclass           0\n",
      "Name             0\n",
      "Sex              0\n",
      "Age             86\n",
      "SibSp            0\n",
      "Parch            0\n",
      "Ticket           0\n",
      "Fare             1\n",
      "Cabin          327\n",
      "Embarked         0\n",
      "dtype: int64\n"
     ]
    },
    {
     "data": {
      "image/png": "[encoded data removed]",
      "text/plain": [
       "<Figure size 432x288 with 2 Axes>"
      ]
     },
     "metadata": {
      "needs_background": "light"
     },
     "output_type": "display_data"
    }
   ],
   "source": [
    "from my_own_transformers import load_and_present\n",
    "\n",
    "\n",
    "data = load_and_present(\"train.csv\")\n",
    "submission_data =  load_and_present(\"test.csv\", head=False, info=False)\n",
    "\n",
    "\n",
    "LEN = len(data)\n",
    "COLUMNS_TO_DROP = []\n",
    "\n",
    "\n",
    "pass_id = submission_data[\"PassengerId\"]#will be used later\n",
    "data.drop([\"PassengerId\", \"Name\",\"Ticket\",\"Cabin\"],axis=1,inplace=True)\n",
    "submission_data.drop([\"PassengerId\", \"Name\",\"Ticket\",\"Cabin\"],axis=1,inplace=True)\n",
    "\n",
    "\n",
    "#missing values easiest treatment\n",
    "data[\"Embarked\"].fillna(inplace=True,value=\"Q\")\n",
    "submission_data[\"Fare\"].fillna(inplace=True,value=submission_data[\"Fare\"].mean())\n",
    "\n",
    "sns.heatmap(round(data.corr(),2),annot=True,cmap='Blues')\n",
    "plt.show()"
   ]
  },
  {
   "cell_type": "code",
   "execution_count": 4,
   "metadata": {},
   "outputs": [
    {
     "name": "stdout",
     "output_type": "stream",
     "text": [
      "3    491\n",
      "1    216\n",
      "2    184\n",
      "Name: Pclass, dtype: int64\n"
     ]
    },
    {
     "data": {
      "image/png": "[encoded data removed]",
      "text/plain": [
       "<Figure size 432x288 with 1 Axes>"
      ]
     },
     "metadata": {
      "needs_background": "light"
     },
     "output_type": "display_data"
    },
    {
     "data": {
      "image/png": "[encoded data removed]",
      "text/plain": [
       "<Figure size 432x288 with 1 Axes>"
      ]
     },
     "metadata": {
      "needs_background": "light"
     },
     "output_type": "display_data"
    },
    {
     "data": {
      "image/png": "[encoded data removed]",
      "text/plain": [
       "<Figure size 432x288 with 1 Axes>"
      ]
     },
     "metadata": {
      "needs_background": "light"
     },
     "output_type": "display_data"
    }
   ],
   "source": [
    "#some plots\n",
    "plt.subplot(311)\n",
    "sns.barplot(\"Pclass\", \"Survived\", data=data, color=\"teal\")\n",
    "print(data[\"Pclass\"].value_counts())\n",
    "plt.show()\n",
    "plt.subplot(312)\n",
    "sns.barplot(\"Embarked\", \"Survived\", data=data, color=\"red\")\n",
    "plt.show()\n",
    "plt.subplot(313)\n",
    "sns.barplot(\"Sex\", \"Survived\",data=data, color=\"green\")\n",
    "plt.show()"
   ]
  },
  {
   "cell_type": "markdown",
   "metadata": {},
   "source": [
    "# Feature extraction\n"
   ]
  },
  {
   "cell_type": "code",
   "execution_count": 5,
   "metadata": {},
   "outputs": [
    {
     "data": {
      "image/png": "[encoded data removed]",
      "text/plain": [
       "<Figure size 432x216 with 2 Axes>"
      ]
     },
     "metadata": {
      "needs_background": "light"
     },
     "output_type": "display_data"
    },
    {
     "data": {
      "image/png": "[encoded data removed]",
      "text/plain": [
       "<Figure size 432x288 with 1 Axes>"
      ]
     },
     "metadata": {
      "needs_background": "light"
     },
     "output_type": "display_data"
    }
   ],
   "source": [
    "g = sns.FacetGrid(data, col=\"Survived\")\n",
    "g.map(plt.hist,\"Fare\",color=\"purple\",bins=[0,10,20,30,40,50],density=True)\n",
    "plt.show()\n",
    "data[\"Fare\"].hist(bins=40,density=True)\n",
    "plt.show()\n",
    "#COLUMNS_TO_DROP.append(\"Fare\")"
   ]
  },
  {
   "cell_type": "code",
   "execution_count": 6,
   "metadata": {},
   "outputs": [
    {
     "data": {
      "image/png": "[encoded data removed]",
      "text/plain": [
       "<Figure size 432x216 with 2 Axes>"
      ]
     },
     "metadata": {
      "needs_background": "light"
     },
     "output_type": "display_data"
    }
   ],
   "source": [
    "g = sns.FacetGrid(data, col='Survived')\n",
    "g.map(plt.hist, 'Age', bins=50,density=True)\n",
    "plt.show()\n",
    "#COLUMNS_TO_DROP.append(\"Age\")\n",
    "#data[\"Age\"].dropna(inplace=True)"
   ]
  },
  {
   "cell_type": "code",
   "execution_count": 7,
   "metadata": {},
   "outputs": [
    {
     "data": {
      "image/png": "[encoded data removed]",
      "text/plain": [
       "<Figure size 1080x360 with 2 Axes>"
      ]
     },
     "metadata": {
      "needs_background": "light"
     },
     "output_type": "display_data"
    }
   ],
   "source": [
    "plt.figure(figsize=[15,5])\n",
    "plt.subplot(121)\n",
    "plt.hist(x = [data[data[\"Survived\"]==1][\"Parch\"], data[data[\"Survived\"]==0][\"Parch\"]], \n",
    "         stacked=True, color = ['g','r'],label = ['Survived','Dead'])\n",
    "plt.title(\"Parch Histogram by Survival\")\n",
    "plt.xlabel(\"Parch\")\n",
    "plt.ylabel('# of Passengers')\n",
    "plt.legend()\n",
    "\n",
    "plt.subplot(122)\n",
    "plt.hist(x = [data[data[\"Survived\"]==1][\"SibSp\"], data[data[\"Survived\"]==0][\"SibSp\"]], \n",
    "         stacked=True, color = ['g','r'],label = ['Survived','Dead'])\n",
    "plt.title(\"SibSp Histogram by Survival\")\n",
    "plt.xlabel(\"SibSp\")\n",
    "plt.ylabel('# of Passengers')\n",
    "plt.legend()\n",
    "plt.show()\n",
    "\n",
    "#data[\"Parch_is_alone\"] = (data[\"Parch\"] == 0).astype(int)\n",
    "#data[\"SibSp_is_alone\"] = (data[\"SibSp\"] == 0).astype(int)\n",
    "#submission_data[\"Parch_is_alone\"] = (submission_data[\"Parch\"] == 0).astype(int)\n",
    "#submission_data[\"SibSp_is_alone\"] = (submission_data[\"SibSp\"] == 0).astype(int)\n",
    "#data.drop([\"Parch\",\"SibSp\"],axis=1,inplace=True)\n",
    "#submission_data.drop([\"Parch\",\"SibSp\"],axis=1,inplace=True)\n",
    "\n"
   ]
  },
  {
   "cell_type": "markdown",
   "metadata": {},
   "source": [
    "I would like to see the same distribution of y (response variable) in both training and test sets. In order to ensure this whim will be satisfied I'm going to used stratified sampling. The goal of stratified sampling is to choose the observations in such a way that distributions of y in both datasets will be maximally similar."
   ]
  },
  {
   "cell_type": "code",
   "execution_count": 8,
   "metadata": {},
   "outputs": [
    {
     "name": "stdout",
     "output_type": "stream",
     "text": [
      "Zbior treningowy: 0.38342696629213485 \n",
      " Zbior treningowy: 0.3854748603351955\n"
     ]
    }
   ],
   "source": [
    "#First Stratified sampling\n",
    "\n",
    "from sklearn.model_selection import StratifiedShuffleSplit\n",
    "\n",
    "split = StratifiedShuffleSplit(n_splits=1, test_size=0.2, random_state=14)\n",
    "for train_index, test_index in split.split(data, data[\"Survived\"]):\n",
    "    train = data.iloc[train_index]\n",
    "    test = data.iloc[test_index]\n",
    "\n",
    "#check the distributions\n",
    "print(\"Zbior treningowy:\", train.Survived.sum()/len(train), \"\\n\",\"Zbior treningowy:\", test.Survived.sum()/len(test))"
   ]
  },
  {
   "cell_type": "code",
   "execution_count": null,
   "metadata": {},
   "outputs": [],
   "source": []
  },
  {
   "cell_type": "code",
   "execution_count": 9,
   "metadata": {},
   "outputs": [],
   "source": [
    "#Using pipeline to transform the data\n",
    "from sklearn.pipeline import Pipeline\n",
    "from my_own_transformers import getting_dummies_01, filling_values_regression_method,numerical_to_categorical\n",
    "\n",
    "\n",
    "\n",
    "pipeline = Pipeline(steps=[\n",
    "    (\"dummies\", getting_dummies_01(variables_to_dummies=[\"Embarked\", \"Pclass\",\"Sex\"])),\n",
    "    (\"filling_age\", filling_values_regression_method(variable_to_fill=\"Age\",model=LinearRegression())),\n",
    "    (\"age_to_categorical\", numerical_to_categorical(interval=[10,20,30,40,50,6000],variable=\"Age\")),\n",
    "    (\"dummies_age\", getting_dummies_01(variables_to_dummies=[\"Age\"])),\n",
    "    (\"fare_to_categorical\", numerical_to_categorical(interval=[10,30,6000],variable=\"Fare\")),\n",
    "    (\"dummies_fare\", getting_dummies_01(variables_to_dummies=[\"Fare\"]))\n",
    "])\n",
    "train = pipeline.fit_transform(train)\n",
    "test = pipeline.transform(test)"
   ]
  },
  {
   "cell_type": "code",
   "execution_count": 28,
   "metadata": {},
   "outputs": [
    {
     "data": {
      "text/plain": [
       "0.8033841940532082"
      ]
     },
     "execution_count": 28,
     "metadata": {},
     "output_type": "execute_result"
    }
   ],
   "source": [
    "#Validating train and test set\n",
    "\n",
    "\n",
    "\n",
    "\n",
    "\n",
    "#k-fold cross validation\n",
    "from my_own_transformers import score\n",
    "from sklearn.model_selection import StratifiedKFold\n",
    "from sklearn.linear_model import LinearRegression\n",
    "def My_own_kfold_cross_validation(model,metrics,Predictors,labels,random_state,n_splits=5,shuffle=False):\n",
    "    stratifiedkfold = StratifiedKFold(n_splits=n_splits,random_state=random_state,shuffle=shuffle)\n",
    "    mean_score = 0 \n",
    "    for train_index, test_index in stratifiedkfold.split(X=np.zeros(len(labels)), y=labels):\n",
    "        #print(\"TRAIN:\", train_index, \"\\n\",\"TEST:\", test_index)\n",
    "        X_train, X_test = Predictors[train_index], Predictors[test_index]\n",
    "        y_train, y_test = labels[train_index], labels[test_index]\n",
    "        score = metrics(model.fit(X_train,y_train),data_matrix=X_test,labels=y_test)\n",
    "        #print(\"score:\",score)\n",
    "        mean_score+=score\n",
    "    return mean_score/n_splits\n",
    "        \n",
    "\n",
    "y = train[\"Survived\"].to_numpy()\n",
    "X = train.drop([\"Survived\"],axis=1).to_numpy()\n",
    "My_own_kfold_cross_validation(model=LogisticRegression(),metrics=score,Predictors=X,labels=y,random_state=14,n_splits=10,shuffle=True)"
   ]
  },
  {
   "cell_type": "code",
   "execution_count": 18,
   "metadata": {},
   "outputs": [
    {
     "data": {
      "text/plain": [
       "0    439\n",
       "1    273\n",
       "Name: Survived, dtype: int64"
      ]
     },
     "execution_count": 18,
     "metadata": {},
     "output_type": "execute_result"
    }
   ],
   "source": [
    "from sklearn.linear_model import LogisticRegression\n",
    "from statsmodels.discrete.discrete_model import Logit\n",
    "\n",
    "y_train = train[\"Survived\"]\n",
    "x_train = train.drop([\"Survived\"],axis=1)\n",
    "y_test = test[\"Survived\"]\n",
    "x_test = test.drop([\"Survived\"],axis=1)"
   ]
  },
  {
   "cell_type": "code",
   "execution_count": 24,
   "metadata": {},
   "outputs": [
    {
     "name": "stdout",
     "output_type": "stream",
     "text": [
      "Optimization terminated successfully.\n",
      "         Current function value: 0.421135\n",
      "         Iterations 6\n",
      "                           Logit Regression Results                           \n",
      "==============================================================================\n",
      "Dep. Variable:               Survived   No. Observations:                  712\n",
      "Model:                          Logit   Df Residuals:                      697\n",
      "Method:                           MLE   Df Model:                           14\n",
      "Date:                Sat, 18 Apr 2020   Pseudo R-squ.:                  0.3674\n",
      "Time:                        07:52:47   Log-Likelihood:                -299.85\n",
      "converged:                       True   LL-Null:                       -473.99\n",
      "Covariance Type:            nonrobust   LLR p-value:                 9.426e-66\n",
      "==============================================================================\n",
      "                 coef    std err          z      P>|z|      [0.025      0.975]\n",
      "------------------------------------------------------------------------------\n",
      "const          4.7756      0.766      6.231      0.000       3.274       6.278\n",
      "Fare_1.0       0.2624      0.337      0.778      0.437      -0.399       0.924\n",
      "Fare_2.0       0.5760      0.475      1.214      0.225      -0.354       1.506\n",
      "Age_1.0       -1.6360      0.521     -3.141      0.002      -2.657      -0.615\n",
      "Age_2.0       -2.1453      0.489     -4.387      0.000      -3.104      -1.187\n",
      "Age_3.0       -2.1773      0.518     -4.206      0.000      -3.192      -1.163\n",
      "Age_4.0       -2.8050      0.559     -5.020      0.000      -3.900      -1.710\n",
      "Age_5.0       -3.3118      0.640     -5.173      0.000      -4.567      -2.057\n",
      "Embarked_Q     0.2952      0.444      0.665      0.506      -0.575       1.165\n",
      "Embarked_S    -0.1598      0.284     -0.563      0.574      -0.717       0.397\n",
      "Pclass_2      -0.9579      0.376     -2.546      0.011      -1.695      -0.220\n",
      "Pclass_3      -2.1704      0.434     -5.003      0.000      -3.021      -1.320\n",
      "Sex_male      -2.7795      0.236    -11.762      0.000      -3.243      -2.316\n",
      "SibSp         -0.5748      0.141     -4.091      0.000      -0.850      -0.299\n",
      "Parch         -0.1035      0.159     -0.652      0.514      -0.415       0.208\n",
      "==============================================================================\n",
      "Confucion matrix: [[384  55]\n",
      " [ 74 199]]\n",
      "Precision score: 0.7834645669291339\n",
      "Recall score: 0.7289377289377289\n"
     ]
    }
   ],
   "source": [
    "from statsmodels.discrete.discrete_model import Logit\n",
    "model = Logit(y_train,sm.add_constant(x_train)).fit()\n",
    "print(model.summary())\n",
    "\n",
    "#lets look on the precision and recall score of our model\n",
    "from sklearn.metrics import confusion_matrix, precision_score, recall_score\n",
    "\n",
    "predictions = [0 if i<0.5 else 1 for i in model.predict(sm.add_constant(x_train))]\n",
    "print(\"Confucion matrix:\",confusion_matrix(y_train, predictions))\n",
    "print(\"Precision score:\",precision_score(y_train, predictions))\n",
    "print(\"Recall score:\", recall_score(y_train, predictions))\n"
   ]
  },
  {
   "cell_type": "markdown",
   "metadata": {},
   "source": [
    "When our model will say that this person will survive we will be right 78 times out of 100. - precision score\n",
    "Our model can correctly recognise only 72 out of 100 people, surviving the catatrophy. - recall score"
   ]
  },
  {
   "cell_type": "markdown",
   "metadata": {},
   "source": [
    "# Adjusting the model"
   ]
  },
  {
   "cell_type": "code",
   "execution_count": 30,
   "metadata": {},
   "outputs": [
    {
     "name": "stdout",
     "output_type": "stream",
     "text": [
      "Optimization terminated successfully.\n",
      "         Current function value: 0.421446\n",
      "         Iterations 6\n",
      "                           Logit Regression Results                           \n",
      "==============================================================================\n",
      "Dep. Variable:               Survived   No. Observations:                  712\n",
      "Model:                          Logit   Df Residuals:                      698\n",
      "Method:                           MLE   Df Model:                           13\n",
      "Date:                Sat, 18 Apr 2020   Pseudo R-squ.:                  0.3669\n",
      "Time:                        08:02:21   Log-Likelihood:                -300.07\n",
      "converged:                       True   LL-Null:                       -473.99\n",
      "Covariance Type:            nonrobust   LLR p-value:                 2.206e-66\n",
      "==============================================================================\n",
      "                 coef    std err          z      P>|z|      [0.025      0.975]\n",
      "------------------------------------------------------------------------------\n",
      "const          4.8687      0.756      6.443      0.000       3.388       6.350\n",
      "Fare_1.0       0.2330      0.334      0.697      0.485      -0.422       0.888\n",
      "Fare_2.0       0.5350      0.471      1.137      0.256      -0.387       1.457\n",
      "Age_1.0       -1.6542      0.521     -3.172      0.002      -2.676      -0.632\n",
      "Age_2.0       -2.1343      0.490     -4.356      0.000      -3.095      -1.174\n",
      "Age_3.0       -2.1474      0.517     -4.154      0.000      -3.160      -1.134\n",
      "Age_4.0       -2.7833      0.559     -4.980      0.000      -3.879      -1.688\n",
      "Age_5.0       -3.2808      0.640     -5.124      0.000      -4.536      -2.026\n",
      "Embarked_S    -0.2608      0.240     -1.089      0.276      -0.730       0.209\n",
      "Pclass_2      -0.9286      0.374     -2.483      0.013      -1.661      -0.196\n",
      "Pclass_3      -2.1260      0.429     -4.961      0.000      -2.966      -1.286\n",
      "Sex_male      -2.7986      0.235    -11.898      0.000      -3.260      -2.338\n",
      "SibSp         -0.5666      0.140     -4.050      0.000      -0.841      -0.292\n",
      "Parch         -0.1117      0.159     -0.705      0.481      -0.422       0.199\n",
      "==============================================================================\n",
      "Score from cross-validation is equal to: 0.8033841940532082\n"
     ]
    }
   ],
   "source": [
    "#from my_own_transformers import score\n",
    "\n",
    "model = Logit(y_train,sm.add_constant(x_train.drop([\"Embarked_Q\"],axis=1))).fit()\n",
    "print(model.summary())\n",
    "print(\"Score from cross-validation is equal to:\",My_own_kfold_cross_validation(model=LogisticRegression(),\n",
    "                                                metrics=score,Predictors=x_train.drop([\"Embarked_Q\"],axis=1).to_numpy(),\n",
    "                                                labels=y_train.to_numpy(),random_state=14,n_splits=10,shuffle=True)\n",
    "     )"
   ]
  },
  {
   "cell_type": "code",
   "execution_count": 33,
   "metadata": {},
   "outputs": [
    {
     "name": "stdout",
     "output_type": "stream",
     "text": [
      "Optimization terminated successfully.\n",
      "         Current function value: 0.421787\n",
      "         Iterations 6\n",
      "                           Logit Regression Results                           \n",
      "==============================================================================\n",
      "Dep. Variable:               Survived   No. Observations:                  712\n",
      "Model:                          Logit   Df Residuals:                      699\n",
      "Method:                           MLE   Df Model:                           12\n",
      "Date:                Sat, 18 Apr 2020   Pseudo R-squ.:                  0.3664\n",
      "Time:                        08:07:03   Log-Likelihood:                -300.31\n",
      "converged:                       True   LL-Null:                       -473.99\n",
      "Covariance Type:            nonrobust   LLR p-value:                 5.065e-67\n",
      "==============================================================================\n",
      "                 coef    std err          z      P>|z|      [0.025      0.975]\n",
      "------------------------------------------------------------------------------\n",
      "const          5.1390      0.653      7.874      0.000       3.860       6.418\n",
      "Fare_2.0       0.3036      0.336      0.904      0.366      -0.355       0.962\n",
      "Age_1.0       -1.6959      0.518     -3.272      0.001      -2.712      -0.680\n",
      "Age_2.0       -2.1777      0.487     -4.472      0.000      -3.132      -1.223\n",
      "Age_3.0       -2.2055      0.512     -4.312      0.000      -3.208      -1.203\n",
      "Age_4.0       -2.8153      0.558     -5.049      0.000      -3.908      -1.722\n",
      "Age_5.0       -3.3164      0.639     -5.188      0.000      -4.569      -2.064\n",
      "Embarked_S    -0.2771      0.238     -1.162      0.245      -0.744       0.190\n",
      "Pclass_2      -0.9311      0.375     -2.484      0.013      -1.666      -0.196\n",
      "Pclass_3      -2.2748      0.374     -6.078      0.000      -3.008      -1.541\n",
      "Sex_male      -2.8143      0.234    -12.007      0.000      -3.274      -2.355\n",
      "SibSp         -0.5426      0.135     -4.031      0.000      -0.806      -0.279\n",
      "Parch         -0.0848      0.154     -0.551      0.581      -0.386       0.217\n",
      "==============================================================================\n",
      "Score from cross-validation is equal to: 0.8075704225352112\n"
     ]
    }
   ],
   "source": [
    "model = Logit(y_train,sm.add_constant(x_train.drop([\"Embarked_Q\",\"Fare_1.0\"],axis=1))).fit()\n",
    "print(model.summary())\n",
    "print(\"Score from cross-validation is equal to:\",My_own_kfold_cross_validation(model=LogisticRegression(),\n",
    "        metrics=score,Predictors=x_train.drop([\"Embarked_Q\",\"Fare_1.0\"],axis=1).to_numpy(),\n",
    "        labels=y_train.to_numpy(),random_state=14,n_splits=10,shuffle=True)\n",
    "     )"
   ]
  },
  {
   "cell_type": "markdown",
   "metadata": {},
   "source": [
    "Looks like removing insignificant features is not changing score much. Theoretically I should remove then, but my goal is to maximize score, so I will leave them as they are."
   ]
  },
  {
   "cell_type": "code",
   "execution_count": 37,
   "metadata": {},
   "outputs": [
    {
     "name": "stdout",
     "output_type": "stream",
     "text": [
      "Optimization terminated successfully.\n",
      "         Current function value: 0.421135\n",
      "         Iterations 6\n",
      "Score on test set: 0.8212290502793296\n"
     ]
    }
   ],
   "source": [
    "#Checking our model on test set\n",
    "model = Logit(y_train,sm.add_constant(x_train)).fit()\n",
    "predictions = [0 if i<0.5 else 1 for i in model.predict(sm.add_constant(x_test))]\n",
    "print(\"Score on test set:\",sum(y_test==predictions)/len(y_test))\n",
    "\n"
   ]
  },
  {
   "cell_type": "code",
   "execution_count": null,
   "metadata": {},
   "outputs": [],
   "source": [
    "all_data = pd.concat([x_train,x_test],axis=0)\n",
    "all_y = pd.concat([y_train,y_test],axis=0)\n",
    "model = Logit(all_y,sm.add_constant(all_data)).fit()\n",
    "print(model.summary())\n",
    "submission_data.dropna(inplace=True)\n",
    "submission_data.drop(COLUMNS_TO_DROP, axis=1, inplace=True)\n",
    "print(submission_data.head())\n",
    "final_submission = pd.DataFrame(data={\"PassengerId\":pass_id,\n",
    "    \"Survived\":[1 if (i > 0.5) else 0 for i in model.predict(sm.add_constant(submission_data.to_numpy()).reshape(418,-1))]\n",
    "        })\n",
    "print(final_submission.head())\n",
    "final_submission.to_csv(path_or_buf=\"submission_04.csv\",index=False)\n",
    "\n"
   ]
  },
  {
   "cell_type": "markdown",
   "metadata": {},
   "source": [
    "In the next notebook I will try to build model more contrated on the score. "
   ]
  }
 ],
 "metadata": {
  "kernelspec": {
   "display_name": "Python 3",
   "language": "python",
   "name": "python3"
  },
  "language_info": {
   "codemirror_mode": {
    "name": "ipython",
    "version": 3
   },
   "file_extension": ".py",
   "mimetype": "text/x-python",
   "name": "python",
   "nbconvert_exporter": "python",
   "pygments_lexer": "ipython3",
   "version": "3.7.3"
  }
 },
 "nbformat": 4,
 "nbformat_minor": 2
}
