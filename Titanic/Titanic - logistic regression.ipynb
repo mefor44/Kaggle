{
 "cells": [
  {
   "cell_type": "markdown",
   "metadata": {},
   "source": [
    "For me, there was a lot of controversy about when to split dataset into train and test sets. On the one hand, if we will split the data at the beggining, we can avoid any information leakage and we can validate our model on data, that our model have never seen before (which i basically the goal of splitting data this way). From the other hand, getting rid of, for example 20% of our data will decrease our overall knowledge about the data. This is important becasue we are using this knowlegde in order to proceede through EDA (exploratory data analysis) with highest possible effiency this is - filling the missing values, doing feature engeeniring all in the best possible way and to do so it's obviously better to have more data. "
   ]
  },
  {
   "cell_type": "markdown",
   "metadata": {},
   "source": [
    "In order to avoid any mistakes I will try to follow rules listed below:\n",
    "1. try not to include any information from train into test set and vice versa \n",
    "2. try to do exploratory analysis before doing splitting\n",
    "3. fill missing values / normalize or scale the data after splitting\n",
    "4. include cross-validation before validating model on test set"
   ]
  },
  {
   "cell_type": "markdown",
   "metadata": {},
   "source": [
    "About the structure: I will try to fit as many transformers to the sklearn's pipeline as i can. This will speed up the whole process of cleaning and working with data. For those purpose I'm going to write my own classes to adress my specific requierments."
   ]
  },
  {
   "cell_type": "markdown",
   "metadata": {},
   "source": [
    "General approach, steps:\n",
    "1. Importing libraries and data\n",
    "2. Data exploration, plotting, correlation\n",
    "3. spliting data into train and test set\n",
    "4. Feature engineering\n",
    "5. Feature selection\n",
    "6. Cross-validation on train set\n",
    "7. Go back to step 4. and proceed, if necessary\n",
    "8. Preprocessing the test set and validating model based on that data\n",
    "\n",
    "steps 3rd and 4th can be mixed togother sometimes. It really depend on situation."
   ]
  },
  {
   "cell_type": "code",
   "execution_count": 175,
   "metadata": {},
   "outputs": [],
   "source": [
    "import numpy as np\n",
    "import pandas as pd\n",
    "import matplotlib.pyplot as plt\n",
    "import seaborn as sns\n",
    "import statsmodels.api as sm\n",
    "from statsmodels.api import OLS"
   ]
  },
  {
   "cell_type": "code",
   "execution_count": 176,
   "metadata": {},
   "outputs": [
    {
     "name": "stdout",
     "output_type": "stream",
     "text": [
      "<class 'pandas.core.frame.DataFrame'>\n",
      "RangeIndex: 891 entries, 0 to 890\n",
      "Data columns (total 12 columns):\n",
      " #   Column       Non-Null Count  Dtype  \n",
      "---  ------       --------------  -----  \n",
      " 0   PassengerId  891 non-null    int64  \n",
      " 1   Survived     891 non-null    int64  \n",
      " 2   Pclass       891 non-null    int64  \n",
      " 3   Name         891 non-null    object \n",
      " 4   Sex          891 non-null    object \n",
      " 5   Age          714 non-null    float64\n",
      " 6   SibSp        891 non-null    int64  \n",
      " 7   Parch        891 non-null    int64  \n",
      " 8   Ticket       891 non-null    object \n",
      " 9   Fare         891 non-null    float64\n",
      " 10  Cabin        204 non-null    object \n",
      " 11  Embarked     889 non-null    object \n",
      "dtypes: float64(2), int64(5), object(5)\n",
      "memory usage: 83.7+ KB\n",
      "None\n",
      "   PassengerId  Survived  Pclass  \\\n",
      "0            1         0       3   \n",
      "1            2         1       1   \n",
      "2            3         1       3   \n",
      "3            4         1       1   \n",
      "4            5         0       3   \n",
      "\n",
      "                                                Name     Sex   Age  SibSp  \\\n",
      "0                            Braund, Mr. Owen Harris    male  22.0      1   \n",
      "1  Cumings, Mrs. John Bradley (Florence Briggs Th...  female  38.0      1   \n",
      "2                             Heikkinen, Miss. Laina  female  26.0      0   \n",
      "3       Futrelle, Mrs. Jacques Heath (Lily May Peel)  female  35.0      1   \n",
      "4                           Allen, Mr. William Henry    male  35.0      0   \n",
      "\n",
      "   Parch            Ticket     Fare Cabin Embarked  \n",
      "0      0         A/5 21171   7.2500   NaN        S  \n",
      "1      0          PC 17599  71.2833   C85        C  \n",
      "2      0  STON/O2. 3101282   7.9250   NaN        S  \n",
      "3      0            113803  53.1000  C123        S  \n",
      "4      0            373450   8.0500   NaN        S  \n",
      "MIssing values:\n",
      " PassengerId      0\n",
      "Survived         0\n",
      "Pclass           0\n",
      "Name             0\n",
      "Sex              0\n",
      "Age            177\n",
      "SibSp            0\n",
      "Parch            0\n",
      "Ticket           0\n",
      "Fare             0\n",
      "Cabin          687\n",
      "Embarked         2\n",
      "dtype: int64\n",
      "MIssing values:\n",
      " PassengerId      0\n",
      "Pclass           0\n",
      "Name             0\n",
      "Sex              0\n",
      "Age             86\n",
      "SibSp            0\n",
      "Parch            0\n",
      "Ticket           0\n",
      "Fare             1\n",
      "Cabin          327\n",
      "Embarked         0\n",
      "dtype: int64\n"
     ]
    },
    {
     "data": {
      "image/png": "[encoded data removed]",
      "text/plain": [
       "<Figure size 432x288 with 2 Axes>"
      ]
     },
     "metadata": {
      "needs_background": "light"
     },
     "output_type": "display_data"
    }
   ],
   "source": [
    "def load_and_present(file_name, head=True, na=True, info=True):\n",
    "    #file_name - name of the file (.csv)\n",
    "    #head - whether to show the first 5 rows\n",
    "    #na - whether to show if there are any miising values in dataset\n",
    "    #info - whether to show basic inforamtions about data(frame)\n",
    "\n",
    "    raw_data = pd.read_csv(file_name)\n",
    "    if info:\n",
    "        print(raw_data.info())\n",
    "    if head:\n",
    "        print(raw_data.head())\n",
    "    if na:\n",
    "        print(\"MIssing values:\\n\",raw_data.isna().sum())\n",
    "    return raw_data\n",
    "\n",
    "\n",
    "data = load_and_present(\"train.csv\")\n",
    "submission_data =  load_and_present(\"test.csv\", head=False, info=False)\n",
    "\n",
    "\n",
    "LEN = len(data)\n",
    "COLUMNS_TO_DROP = []\n",
    "\n",
    "\n",
    "pass_id = submission_data[\"PassengerId\"]#will be used later\n",
    "data.drop([\"PassengerId\", \"Name\",\"Ticket\",\"Cabin\"],axis=1,inplace=True)\n",
    "submission_data.drop([\"PassengerId\", \"Name\",\"Ticket\",\"Cabin\"],axis=1,inplace=True)\n",
    "\n",
    "\n",
    "#missing value easiest treatment\n",
    "data[\"Embarked\"].fillna(inplace=True,value=\"Q\")\n",
    "submission_data[\"Fare\"].fillna(inplace=True,value=submission_data[\"Fare\"].mean())\n",
    "\n",
    "sns.heatmap(round(data.corr(),2),annot=True,cmap='Blues')\n",
    "plt.show()"
   ]
  },
  {
   "cell_type": "code",
   "execution_count": 177,
   "metadata": {},
   "outputs": [
    {
     "name": "stdout",
     "output_type": "stream",
     "text": [
      "3    491\n",
      "1    216\n",
      "2    184\n",
      "Name: Pclass, dtype: int64\n"
     ]
    },
    {
     "data": {
      "image/png": "[encoded data removed]",
      "text/plain": [
       "<Figure size 432x288 with 1 Axes>"
      ]
     },
     "metadata": {
      "needs_background": "light"
     },
     "output_type": "display_data"
    },
    {
     "data": {
      "image/png": "[encoded data removed]",
      "text/plain": [
       "<Figure size 432x288 with 1 Axes>"
      ]
     },
     "metadata": {
      "needs_background": "light"
     },
     "output_type": "display_data"
    },
    {
     "data": {
      "image/png": "[encoded data removed]",
      "text/plain": [
       "<Figure size 432x288 with 1 Axes>"
      ]
     },
     "metadata": {
      "needs_background": "light"
     },
     "output_type": "display_data"
    }
   ],
   "source": [
    "#some plots\n",
    "plt.subplot(311)\n",
    "sns.barplot(\"Pclass\", \"Survived\", data=data, color=\"teal\")\n",
    "print(data[\"Pclass\"].value_counts())\n",
    "plt.show()\n",
    "plt.subplot(312)\n",
    "sns.barplot(\"Embarked\", \"Survived\", data=data, color=\"red\")\n",
    "plt.show()\n",
    "plt.subplot(313)\n",
    "sns.barplot(\"Sex\", \"Survived\",data=data, color=\"green\")\n",
    "plt.show()"
   ]
  },
  {
   "cell_type": "code",
   "execution_count": null,
   "metadata": {},
   "outputs": [],
   "source": []
  },
  {
   "cell_type": "code",
   "execution_count": null,
   "metadata": {},
   "outputs": [],
   "source": []
  },
  {
   "cell_type": "code",
   "execution_count": 178,
   "metadata": {},
   "outputs": [],
   "source": [
    "from sklearn.base import BaseEstimator, TransformerMixin\n",
    "from sklearn.linear_model import LinearRegression\n",
    "\n",
    "\n",
    "#class for getting dummy variables \n",
    "class getting_dummies_01():\n",
    "    def __init__(self,variables_to_dummies):\n",
    "        self.variables = variables_to_dummies\n",
    "    def fit(self,X,y=None):\n",
    "        return self\n",
    "    def transform(self,X,y=None):\n",
    "        output = pd.DataFrame()\n",
    "        for column in self.variables:\n",
    "            encoded = pd.get_dummies(X[column],drop_first=True)\n",
    "            output = pd.concat([output,encoded],axis=1)     \n",
    "        return pd.concat([output, X.drop(self.variables,axis=1)],axis=1)\n",
    "\n",
    "    \n",
    "    \n",
    "class filling_values_regression_method():\n",
    "    def __init__(self,variable_to_fill):\n",
    "        self.variable = variable_to_fill\n",
    "    def fit(self, X,y=None):\n",
    "        return self\n",
    "    def transform(self, X, y=None):\n",
    "        train = X.dropna()\n",
    "        test = X[X[self.variable].isnull()].drop([self.variable],axis=1)\n",
    "        lm = LinearRegression().fit(train.drop([self.variable],axis=1),train[self.variable])    \n",
    "        return X[self.variable].fillna(value=pd.Series(lm.predict(test)),inplace=True)"
   ]
  },
  {
   "cell_type": "code",
   "execution_count": 179,
   "metadata": {},
   "outputs": [],
   "source": [
    "\n",
    "\n",
    "#funkcja tworzaca zmienne typu \"dummies\"\n",
    "def getting_dummies(data,cat_variables):\n",
    "    output = pd.DataFrame()\n",
    "    for column in cat_variables:\n",
    "        encoded = pd.get_dummies(data[column],drop_first=True)\n",
    "        output = pd.concat([output,encoded],axis=1)     \n",
    "    return pd.concat([output, data.drop(cat_variables,axis=1)],axis=1)\n",
    "\n",
    "#function to make inside regression in order to  fill missing values in more robust way\n",
    "def filling_values_regression(data, variable_to_fill):\n",
    "    train = sm.add_constant(data.dropna())\n",
    "    test = sm.add_constant(data[data[variable_to_fill].isnull()].drop([variable_to_fill],axis=1))\n",
    "    lm = OLS(train[variable_to_fill],train.drop([variable_to_fill],axis=1)).fit()\n",
    "    data[variable_to_fill].fillna(value=lm.predict(test),inplace=True)\n",
    "    return data\n"
   ]
  },
  {
   "cell_type": "code",
   "execution_count": 180,
   "metadata": {},
   "outputs": [],
   "source": [
    "#Using pipeline\n",
    "from sklearn.pipeline import Pipeline\n",
    "\n",
    "pipeline = Pipeline(steps=[\n",
    "    (\"dummies\", getting_dummies_01(variables_to_dummies=[\"Embarked\", \"Pclass\",\"Sex\"])),\n",
    "    (\"filling_age\", filling_values_regression_method(variable_to_fill=\"Age\"))\n",
    "])\n",
    "t = pipeline.fit_transform(submission_data)"
   ]
  },
  {
   "cell_type": "code",
   "execution_count": 181,
   "metadata": {},
   "outputs": [],
   "source": [
    "t"
   ]
  },
  {
   "cell_type": "code",
   "execution_count": 182,
   "metadata": {},
   "outputs": [
    {
     "data": {
      "text/html": [
       "<div>\n",
       "<style scoped>\n",
       "    .dataframe tbody tr th:only-of-type {\n",
       "        vertical-align: middle;\n",
       "    }\n",
       "\n",
       "    .dataframe tbody tr th {\n",
       "        vertical-align: top;\n",
       "    }\n",
       "\n",
       "    .dataframe thead th {\n",
       "        text-align: right;\n",
       "    }\n",
       "</style>\n",
       "<table border=\"1\" class=\"dataframe\">\n",
       "  <thead>\n",
       "    <tr style=\"text-align: right;\">\n",
       "      <th></th>\n",
       "      <th>male</th>\n",
       "      <th>2</th>\n",
       "      <th>3</th>\n",
       "      <th>Q</th>\n",
       "      <th>S</th>\n",
       "      <th>Age</th>\n",
       "      <th>SibSp</th>\n",
       "      <th>Parch</th>\n",
       "      <th>Fare</th>\n",
       "    </tr>\n",
       "  </thead>\n",
       "  <tbody>\n",
       "    <tr>\n",
       "      <th>0</th>\n",
       "      <td>1</td>\n",
       "      <td>0</td>\n",
       "      <td>1</td>\n",
       "      <td>1</td>\n",
       "      <td>0</td>\n",
       "      <td>34.500000</td>\n",
       "      <td>0</td>\n",
       "      <td>0</td>\n",
       "      <td>7.8292</td>\n",
       "    </tr>\n",
       "    <tr>\n",
       "      <th>1</th>\n",
       "      <td>0</td>\n",
       "      <td>0</td>\n",
       "      <td>1</td>\n",
       "      <td>0</td>\n",
       "      <td>1</td>\n",
       "      <td>47.000000</td>\n",
       "      <td>1</td>\n",
       "      <td>0</td>\n",
       "      <td>7.0000</td>\n",
       "    </tr>\n",
       "    <tr>\n",
       "      <th>2</th>\n",
       "      <td>1</td>\n",
       "      <td>1</td>\n",
       "      <td>0</td>\n",
       "      <td>1</td>\n",
       "      <td>0</td>\n",
       "      <td>62.000000</td>\n",
       "      <td>0</td>\n",
       "      <td>0</td>\n",
       "      <td>9.6875</td>\n",
       "    </tr>\n",
       "    <tr>\n",
       "      <th>3</th>\n",
       "      <td>1</td>\n",
       "      <td>0</td>\n",
       "      <td>1</td>\n",
       "      <td>0</td>\n",
       "      <td>1</td>\n",
       "      <td>27.000000</td>\n",
       "      <td>0</td>\n",
       "      <td>0</td>\n",
       "      <td>8.6625</td>\n",
       "    </tr>\n",
       "    <tr>\n",
       "      <th>4</th>\n",
       "      <td>0</td>\n",
       "      <td>0</td>\n",
       "      <td>1</td>\n",
       "      <td>0</td>\n",
       "      <td>1</td>\n",
       "      <td>22.000000</td>\n",
       "      <td>1</td>\n",
       "      <td>1</td>\n",
       "      <td>12.2875</td>\n",
       "    </tr>\n",
       "    <tr>\n",
       "      <th>...</th>\n",
       "      <td>...</td>\n",
       "      <td>...</td>\n",
       "      <td>...</td>\n",
       "      <td>...</td>\n",
       "      <td>...</td>\n",
       "      <td>...</td>\n",
       "      <td>...</td>\n",
       "      <td>...</td>\n",
       "      <td>...</td>\n",
       "    </tr>\n",
       "    <tr>\n",
       "      <th>413</th>\n",
       "      <td>1</td>\n",
       "      <td>0</td>\n",
       "      <td>1</td>\n",
       "      <td>0</td>\n",
       "      <td>1</td>\n",
       "      <td>25.402974</td>\n",
       "      <td>0</td>\n",
       "      <td>0</td>\n",
       "      <td>8.0500</td>\n",
       "    </tr>\n",
       "    <tr>\n",
       "      <th>414</th>\n",
       "      <td>0</td>\n",
       "      <td>0</td>\n",
       "      <td>0</td>\n",
       "      <td>0</td>\n",
       "      <td>0</td>\n",
       "      <td>39.000000</td>\n",
       "      <td>0</td>\n",
       "      <td>0</td>\n",
       "      <td>108.9000</td>\n",
       "    </tr>\n",
       "    <tr>\n",
       "      <th>415</th>\n",
       "      <td>1</td>\n",
       "      <td>0</td>\n",
       "      <td>1</td>\n",
       "      <td>0</td>\n",
       "      <td>1</td>\n",
       "      <td>38.500000</td>\n",
       "      <td>0</td>\n",
       "      <td>0</td>\n",
       "      <td>7.2500</td>\n",
       "    </tr>\n",
       "    <tr>\n",
       "      <th>416</th>\n",
       "      <td>1</td>\n",
       "      <td>0</td>\n",
       "      <td>1</td>\n",
       "      <td>0</td>\n",
       "      <td>1</td>\n",
       "      <td>25.402974</td>\n",
       "      <td>0</td>\n",
       "      <td>0</td>\n",
       "      <td>8.0500</td>\n",
       "    </tr>\n",
       "    <tr>\n",
       "      <th>417</th>\n",
       "      <td>1</td>\n",
       "      <td>0</td>\n",
       "      <td>1</td>\n",
       "      <td>0</td>\n",
       "      <td>0</td>\n",
       "      <td>21.895796</td>\n",
       "      <td>1</td>\n",
       "      <td>1</td>\n",
       "      <td>22.3583</td>\n",
       "    </tr>\n",
       "  </tbody>\n",
       "</table>\n",
       "<p>418 rows × 9 columns</p>\n",
       "</div>"
      ],
      "text/plain": [
       "     male  2  3  Q  S        Age  SibSp  Parch      Fare\n",
       "0       1  0  1  1  0  34.500000      0      0    7.8292\n",
       "1       0  0  1  0  1  47.000000      1      0    7.0000\n",
       "2       1  1  0  1  0  62.000000      0      0    9.6875\n",
       "3       1  0  1  0  1  27.000000      0      0    8.6625\n",
       "4       0  0  1  0  1  22.000000      1      1   12.2875\n",
       "..    ... .. .. .. ..        ...    ...    ...       ...\n",
       "413     1  0  1  0  1  25.402974      0      0    8.0500\n",
       "414     0  0  0  0  0  39.000000      0      0  108.9000\n",
       "415     1  0  1  0  1  38.500000      0      0    7.2500\n",
       "416     1  0  1  0  1  25.402974      0      0    8.0500\n",
       "417     1  0  1  0  0  21.895796      1      1   22.3583\n",
       "\n",
       "[418 rows x 9 columns]"
      ]
     },
     "execution_count": 182,
     "metadata": {},
     "output_type": "execute_result"
    }
   ],
   "source": [
    "data = getting_dummies(data=data, cat_variables=[\"Sex\", \"Pclass\", \"Embarked\"])\n",
    "submission_data = getting_dummies(data=submission_data, cat_variables=[\"Sex\", \"Pclass\", \"Embarked\"])\n",
    "filling_values_regression(data,\"Age\")\n",
    "filling_values_regression(submission_data,\"Age\")"
   ]
  },
  {
   "cell_type": "markdown",
   "metadata": {},
   "source": [
    "# Feature extraction\n"
   ]
  },
  {
   "cell_type": "code",
   "execution_count": 183,
   "metadata": {},
   "outputs": [
    {
     "data": {
      "image/png": "[encoded data removed]",
      "text/plain": [
       "<Figure size 432x216 with 2 Axes>"
      ]
     },
     "metadata": {
      "needs_background": "light"
     },
     "output_type": "display_data"
    },
    {
     "data": {
      "image/png": "[encoded data removed]",
      "text/plain": [
       "<Figure size 432x288 with 1 Axes>"
      ]
     },
     "metadata": {
      "needs_background": "light"
     },
     "output_type": "display_data"
    }
   ],
   "source": [
    "g = sns.FacetGrid(data, col=\"Survived\")\n",
    "g.map(plt.hist,\"Fare\",color=\"purple\",bins=30,density=True)\n",
    "plt.show()\n",
    "data[\"Fare\"].hist(bins=40,density=True)\n",
    "plt.show()\n",
    "qt_25 = data[\"Fare\"].describe()[4]#0.25 quantile\n",
    "data[\"low_fare\"] = (data[\"Fare\"]<30).astype(int)\n",
    "submission_data[\"low_fare\"] = (submission_data[\"Fare\"]<50).astype(int)\n",
    "COLUMNS_TO_DROP.append(\"Fare\")"
   ]
  },
  {
   "cell_type": "code",
   "execution_count": 184,
   "metadata": {},
   "outputs": [
    {
     "data": {
      "image/png": "[encoded data removed]",
      "text/plain": [
       "<Figure size 432x216 with 2 Axes>"
      ]
     },
     "metadata": {
      "needs_background": "light"
     },
     "output_type": "display_data"
    }
   ],
   "source": [
    "g = sns.FacetGrid(data, col='Survived')\n",
    "g.map(plt.hist, 'Age', bins=50,density=True)\n",
    "plt.show()\n",
    "\n",
    "data[\"baby\"] = (data[\"Age\"]<6).astype(int)\n",
    "submission_data[\"baby\"] = (submission_data[\"Age\"]<6).astype(int)\n",
    "\n",
    "data[\"old\"] = (data[\"Age\"]>40).astype(int)\n",
    "submission_data[\"old\"] = (submission_data[\"Age\"]>40).astype(int)\n",
    "\n",
    "COLUMNS_TO_DROP.append(\"Age\")"
   ]
  },
  {
   "cell_type": "code",
   "execution_count": 185,
   "metadata": {},
   "outputs": [
    {
     "data": {
      "image/png": "[encoded data removed]",
      "text/plain": [
       "<Figure size 1080x360 with 2 Axes>"
      ]
     },
     "metadata": {
      "needs_background": "light"
     },
     "output_type": "display_data"
    }
   ],
   "source": [
    "plt.figure(figsize=[15,5])\n",
    "plt.subplot(121)\n",
    "plt.hist(x = [data[data[\"Survived\"]==1][\"Parch\"], data[data[\"Survived\"]==0][\"Parch\"]], \n",
    "         stacked=True, color = ['g','r'],label = ['Survived','Dead'])\n",
    "plt.title(\"Parch Histogram by Survival\")\n",
    "plt.xlabel(\"Parch\")\n",
    "plt.ylabel('# of Passengers')\n",
    "plt.legend()\n",
    "\n",
    "plt.subplot(122)\n",
    "plt.hist(x = [data[data[\"Survived\"]==1][\"SibSp\"], data[data[\"Survived\"]==0][\"SibSp\"]], \n",
    "         stacked=True, color = ['g','r'],label = ['Survived','Dead'])\n",
    "plt.title(\"SibSp Histogram by Survival\")\n",
    "plt.xlabel(\"SibSp\")\n",
    "plt.ylabel('# of Passengers')\n",
    "plt.legend()\n",
    "plt.show()\n",
    "\n",
    "#data[\"Parch_is_alone\"] = (data[\"Parch\"] == 0).astype(int)\n",
    "#data[\"SibSp_is_alone\"] = (data[\"SibSp\"] == 0).astype(int)\n",
    "#submission_data[\"Parch_is_alone\"] = (submission_data[\"Parch\"] == 0).astype(int)\n",
    "#submission_data[\"SibSp_is_alone\"] = (submission_data[\"SibSp\"] == 0).astype(int)\n",
    "#COLUMNS_TO_DROP.append(\"Parch\")\n",
    "#COLUMNS_TO_DROP.append(\"SibSp\")"
   ]
  },
  {
   "cell_type": "code",
   "execution_count": 186,
   "metadata": {},
   "outputs": [
    {
     "name": "stdout",
     "output_type": "stream",
     "text": [
      "Zbior treningowy: 0.3904494382022472 \n",
      " Zbior treningowy: 0.3575418994413408\n",
      "Optimization terminated successfully.\n",
      "         Current function value: 0.429437\n",
      "         Iterations 6\n",
      "Optimization terminated successfully.\n",
      "         Current function value: 0.419469\n",
      "         Iterations 7\n",
      "Optimization terminated successfully.\n",
      "         Current function value: 0.428480\n",
      "         Iterations 6\n",
      "Optimization terminated successfully.\n",
      "         Current function value: 0.413316\n",
      "         Iterations 7\n",
      "Optimization terminated successfully.\n",
      "         Current function value: 0.416641\n",
      "         Iterations 6\n",
      "Optimization terminated successfully.\n",
      "         Current function value: 0.424581\n",
      "         Iterations 6\n",
      "Optimization terminated successfully.\n",
      "         Current function value: 0.421179\n",
      "         Iterations 6\n",
      "Optimization terminated successfully.\n",
      "         Current function value: 0.420594\n",
      "         Iterations 6\n",
      "Optimization terminated successfully.\n",
      "         Current function value: 0.430546\n",
      "         Iterations 6\n",
      "Optimization terminated successfully.\n",
      "         Current function value: 0.435364\n",
      "         Iterations 6\n"
     ]
    },
    {
     "data": {
      "text/plain": [
       "0.8215106117353308"
      ]
     },
     "execution_count": 186,
     "metadata": {},
     "output_type": "execute_result"
    }
   ],
   "source": [
    "#Preparing training and test set\n",
    "\n",
    "data.drop(COLUMNS_TO_DROP,axis=1,inplace=True)\n",
    "\n",
    "\n",
    "train = data.iloc[:int(LEN*0.8),]\n",
    "test = data.iloc[int(LEN*0.8):,]\n",
    "print(\"Zbior treningowy:\", train.Survived.sum()/len(train), \"\\n\",\"Zbior treningowy:\", test.Survived.sum()/len(test))\n",
    "\n",
    "#k-fold cross validation\n",
    "from sklearn.model_selection import StratifiedKFold\n",
    "from statsmodels.discrete.discrete_model import Logit\n",
    "def My_own_kfold_cross_validation(model,metrics,Predictors,labels,random_state,n_splits=5,shuffle=False):\n",
    "    stratifiedkfold = StratifiedKFold(n_splits=n_splits,random_state=random_state,shuffle=shuffle)\n",
    "    mean_score = 0 \n",
    "    for train_index, test_index in stratifiedkfold.split(X=np.zeros(len(labels)), y=labels):\n",
    "        #print(\"TRAIN:\", train_index, \"\\n\",\"TEST:\", test_index)\n",
    "        X_train, X_test = Predictors[train_index], Predictors[test_index]\n",
    "        y_train, y_test = labels[train_index], labels[test_index]\n",
    "        score = metrics(model(y_train,sm.add_constant(X_train)).fit(),data_matrix=X_test,labels=y_test)\n",
    "        #print(\"score:\",score)\n",
    "        mean_score+=score\n",
    "    return mean_score/n_splits\n",
    "        \n",
    "\n",
    "y = data[\"Survived\"].to_numpy()\n",
    "X = data.drop([\"Survived\"],axis=1).to_numpy()\n",
    "My_own_kfold_cross_validation(model=Logit,metrics=score,Predictors=X,labels=y,random_state=14,n_splits=10,shuffle=True)"
   ]
  },
  {
   "cell_type": "code",
   "execution_count": 187,
   "metadata": {},
   "outputs": [],
   "source": [
    "from sklearn.linear_model import LogisticRegression\n",
    "from statsmodels.discrete.discrete_model import Logit\n",
    "\n",
    "\n",
    "\n",
    "y_train = train[\"Survived\"]\n",
    "x_train = train.drop([\"Survived\"],axis=1)\n",
    "y_test = test[\"Survived\"]\n",
    "x_test = test.drop([\"Survived\"],axis=1)\n",
    "\n",
    "\n"
   ]
  },
  {
   "cell_type": "code",
   "execution_count": 188,
   "metadata": {},
   "outputs": [
    {
     "name": "stdout",
     "output_type": "stream",
     "text": [
      "Optimization terminated successfully.\n",
      "         Current function value: 0.438118\n",
      "         Iterations 6\n",
      "                           Logit Regression Results                           \n",
      "==============================================================================\n",
      "Dep. Variable:               Survived   No. Observations:                  712\n",
      "Model:                          Logit   Df Residuals:                      701\n",
      "Method:                           MLE   Df Model:                           10\n",
      "Date:                Thu, 16 Apr 2020   Pseudo R-squ.:                  0.3451\n",
      "Time:                        22:22:52   Log-Likelihood:                -311.94\n",
      "converged:                       True   LL-Null:                       -476.29\n",
      "Covariance Type:            nonrobust   LLR p-value:                 1.308e-64\n",
      "==============================================================================\n",
      "                 coef    std err          z      P>|z|      [0.025      0.975]\n",
      "------------------------------------------------------------------------------\n",
      "const          3.4453      0.375      9.179      0.000       2.710       4.181\n",
      "male          -2.7500      0.229    -11.988      0.000      -3.200      -2.300\n",
      "2             -0.7075      0.379     -1.867      0.062      -1.450       0.035\n",
      "3             -1.9042      0.378     -5.032      0.000      -2.646      -1.163\n",
      "Q              0.0704      0.420      0.168      0.867      -0.753       0.894\n",
      "S             -0.3282      0.268     -1.225      0.221      -0.853       0.197\n",
      "SibSp         -0.4287      0.134     -3.209      0.001      -0.691      -0.167\n",
      "Parch         -0.2517      0.143     -1.760      0.078      -0.532       0.029\n",
      "low_fare      -0.5937      0.341     -1.741      0.082      -1.262       0.075\n",
      "baby           1.9721      0.537      3.672      0.000       0.919       3.025\n",
      "old           -1.1082      0.290     -3.820      0.000      -1.677      -0.540\n",
      "==============================================================================\n"
     ]
    }
   ],
   "source": [
    "from statsmodels.api import OLS\n",
    "model = Logit(y_train,sm.add_constant(x_train)).fit()\n",
    "print(model.summary())"
   ]
  },
  {
   "cell_type": "code",
   "execution_count": 189,
   "metadata": {},
   "outputs": [],
   "source": [
    "#model = LogisticRegression(max_iter=1000).fit(x_train,y_train)\n",
    "def score(model, data_matrix, labels):\n",
    "    predictions = [1 if (i > 0.5) else 0 for i in model.predict(sm.add_constant(data_matrix))]\n",
    "    score = sum((predictions == labels)) /len(labels)\n",
    "    return score\n",
    "\n",
    "#score(model,x_test,y_test)"
   ]
  },
  {
   "cell_type": "markdown",
   "metadata": {},
   "source": [
    "# Adjusting the model"
   ]
  },
  {
   "cell_type": "code",
   "execution_count": 190,
   "metadata": {},
   "outputs": [
    {
     "name": "stdout",
     "output_type": "stream",
     "text": [
      "Optimization terminated successfully.\n",
      "         Current function value: 0.438138\n",
      "         Iterations 6\n",
      "                           Logit Regression Results                           \n",
      "==============================================================================\n",
      "Dep. Variable:               Survived   No. Observations:                  712\n",
      "Model:                          Logit   Df Residuals:                      702\n",
      "Method:                           MLE   Df Model:                            9\n",
      "Date:                Thu, 16 Apr 2020   Pseudo R-squ.:                  0.3450\n",
      "Time:                        22:22:53   Log-Likelihood:                -311.95\n",
      "converged:                       True   LL-Null:                       -476.29\n",
      "Covariance Type:            nonrobust   LLR p-value:                 2.127e-65\n",
      "==============================================================================\n",
      "                 coef    std err          z      P>|z|      [0.025      0.975]\n",
      "------------------------------------------------------------------------------\n",
      "const          3.4638      0.359      9.643      0.000       2.760       4.168\n",
      "male          -2.7549      0.228    -12.096      0.000      -3.201      -2.309\n",
      "2             -0.7024      0.378     -1.859      0.063      -1.443       0.038\n",
      "3             -1.8926      0.372     -5.088      0.000      -2.622      -1.163\n",
      "S             -0.3513      0.229     -1.531      0.126      -0.801       0.099\n",
      "SibSp         -0.4286      0.134     -3.207      0.001      -0.691      -0.167\n",
      "Parch         -0.2545      0.142     -1.790      0.073      -0.533       0.024\n",
      "low_fare      -0.5915      0.341     -1.734      0.083      -1.260       0.077\n",
      "baby           1.9727      0.538      3.667      0.000       0.918       3.027\n",
      "old           -1.1079      0.290     -3.817      0.000      -1.677      -0.539\n",
      "==============================================================================\n"
     ]
    }
   ],
   "source": [
    "model = Logit(y_train,sm.add_constant(x_train.drop([\"Q\"],axis=1))).fit()\n",
    "print(model.summary())"
   ]
  },
  {
   "cell_type": "code",
   "execution_count": 191,
   "metadata": {},
   "outputs": [
    {
     "name": "stdout",
     "output_type": "stream",
     "text": [
      "Optimization terminated successfully.\n",
      "         Current function value: 0.440570\n",
      "         Iterations 6\n",
      "                           Logit Regression Results                           \n",
      "==============================================================================\n",
      "Dep. Variable:               Survived   No. Observations:                  712\n",
      "Model:                          Logit   Df Residuals:                      703\n",
      "Method:                           MLE   Df Model:                            8\n",
      "Date:                Thu, 16 Apr 2020   Pseudo R-squ.:                  0.3414\n",
      "Time:                        22:22:53   Log-Likelihood:                -313.69\n",
      "converged:                       True   LL-Null:                       -476.29\n",
      "Covariance Type:            nonrobust   LLR p-value:                 1.756e-65\n",
      "==============================================================================\n",
      "                 coef    std err          z      P>|z|      [0.025      0.975]\n",
      "------------------------------------------------------------------------------\n",
      "const          3.3382      0.348      9.606      0.000       2.657       4.019\n",
      "male          -2.7323      0.226    -12.072      0.000      -3.176      -2.289\n",
      "3             -1.3683      0.241     -5.686      0.000      -1.840      -0.897\n",
      "S             -0.4307      0.224     -1.921      0.055      -0.870       0.009\n",
      "SibSp         -0.4603      0.132     -3.497      0.000      -0.718      -0.202\n",
      "Parch         -0.2860      0.139     -2.054      0.040      -0.559      -0.013\n",
      "low_fare      -0.9531      0.280     -3.401      0.001      -1.502      -0.404\n",
      "baby           1.9705      0.535      3.684      0.000       0.922       3.019\n",
      "old           -0.9588      0.276     -3.476      0.001      -1.499      -0.418\n",
      "==============================================================================\n",
      "0.8547486033519553\n"
     ]
    }
   ],
   "source": [
    "model = Logit(y_train,sm.add_constant(x_train.drop([\"Q\",2],axis=1))).fit()\n",
    "print(model.summary())\n",
    "#print(x_train.columns)\n",
    "print(score(model,x_test.drop([\"Q\",2],axis=1),y_test))\n",
    "COLUMNS_TO_DROP.append(\"Q\")\n",
    "COLUMNS_TO_DROP.append(2)"
   ]
  },
  {
   "cell_type": "code",
   "execution_count": 192,
   "metadata": {},
   "outputs": [
    {
     "name": "stdout",
     "output_type": "stream",
     "text": [
      "Optimization terminated successfully.\n",
      "         Current function value: 0.428362\n",
      "         Iterations 6\n",
      "                           Logit Regression Results                           \n",
      "==============================================================================\n",
      "Dep. Variable:               Survived   No. Observations:                  891\n",
      "Model:                          Logit   Df Residuals:                      882\n",
      "Method:                           MLE   Df Model:                            8\n",
      "Date:                Thu, 16 Apr 2020   Pseudo R-squ.:                  0.3567\n",
      "Time:                        22:22:53   Log-Likelihood:                -381.67\n",
      "converged:                       True   LL-Null:                       -593.33\n",
      "Covariance Type:            nonrobust   LLR p-value:                 1.920e-86\n",
      "==============================================================================\n",
      "                 coef    std err          z      P>|z|      [0.025      0.975]\n",
      "------------------------------------------------------------------------------\n",
      "const          3.4675      0.321     10.802      0.000       2.838       4.097\n",
      "male          -2.8427      0.208    -13.642      0.000      -3.251      -2.434\n",
      "3             -1.3676      0.217     -6.298      0.000      -1.793      -0.942\n",
      "S             -0.4744      0.205     -2.315      0.021      -0.876      -0.073\n",
      "SibSp         -0.5767      0.119     -4.847      0.000      -0.810      -0.344\n",
      "Parch         -0.2415      0.123     -1.968      0.049      -0.482      -0.001\n",
      "low_fare      -1.0381      0.253     -4.107      0.000      -1.533      -0.543\n",
      "baby           2.5355      0.498      5.094      0.000       1.560       3.511\n",
      "old           -0.8945      0.250     -3.574      0.000      -1.385      -0.404\n",
      "==============================================================================\n",
      "   male  3  S  SibSp  Parch  low_fare  baby  old\n",
      "0     1  1  0      0      0         1     0    0\n",
      "1     0  1  1      1      0         1     0    1\n",
      "2     1  0  0      0      0         1     0    1\n",
      "3     1  1  1      0      0         1     0    0\n",
      "4     0  1  1      1      1         1     0    0\n",
      "   PassengerId  Survived\n",
      "0          892         0\n",
      "1          893         0\n",
      "2          894         0\n",
      "3          895         0\n",
      "4          896         0\n"
     ]
    }
   ],
   "source": [
    "all_data = pd.concat([x_train,x_test],axis=0)\n",
    "all_y = pd.concat([y_train,y_test],axis=0)\n",
    "model = Logit(all_y,sm.add_constant(all_data.drop([\"Q\",2],axis=1))).fit()\n",
    "print(model.summary())\n",
    "submission_data.dropna(inplace=True)\n",
    "submission_data.drop(COLUMNS_TO_DROP, axis=1, inplace=True)\n",
    "print(submission_data.head())\n",
    "final_submission = pd.DataFrame(data={\"PassengerId\":pass_id,\n",
    "    \"Survived\":[1 if (i > 0.5) else 0 for i in model.predict(sm.add_constant(submission_data.to_numpy()).reshape(418,-1))]\n",
    "        })\n",
    "print(final_submission.head())\n",
    "final_submission.to_csv(path_or_buf=\"submission_04.csv\",index=False)\n",
    "\n"
   ]
  },
  {
   "cell_type": "code",
   "execution_count": null,
   "metadata": {},
   "outputs": [],
   "source": [
    "\n",
    "   \n",
    "\n",
    "\n"
   ]
  },
  {
   "cell_type": "code",
   "execution_count": null,
   "metadata": {},
   "outputs": [],
   "source": []
  },
  {
   "cell_type": "code",
   "execution_count": null,
   "metadata": {},
   "outputs": [],
   "source": []
  }
 ],
 "metadata": {
  "kernelspec": {
   "display_name": "Python 3",
   "language": "python",
   "name": "python3"
  },
  "language_info": {
   "codemirror_mode": {
    "name": "ipython",
    "version": 3
   },
   "file_extension": ".py",
   "mimetype": "text/x-python",
   "name": "python",
   "nbconvert_exporter": "python",
   "pygments_lexer": "ipython3",
   "version": "3.7.3"
  }
 },
 "nbformat": 4,
 "nbformat_minor": 2
}
